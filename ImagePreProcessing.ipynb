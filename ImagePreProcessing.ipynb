{
 "cells": [
  {
   "cell_type": "code",
   "execution_count": 2,
   "metadata": {},
   "outputs": [],
   "source": [
    "\n",
    "import os\n",
    "import cv2\n",
    "import sys\n",
    "import math\n",
    "import warnings\n",
    "import numpy as np\n",
    "from zipfile import ZipFile\n",
    "\n",
    "import pandas as pd\n",
    "\n",
    "#import gdal\n",
    "from sklearn.decomposition import PCA\n",
    "\n",
    "import matplotlib.pyplot as plt\n",
    "\n",
    "from jupyterthemes import jtplot\n",
    "jtplot.style()\n",
    "\n",
    "from scipy import ndimage as ndi\n",
    "from skimage import feature\n",
    "\n",
    "from PIL import Image\n",
    "from IPython.display import display\n",
    "\n",
    "if not sys.warnoptions:\n",
    "    warnings.simplefilter(\"ignore\")\n",
    "\n",
    "import libs"
   ]
  },
  {
   "cell_type": "code",
   "execution_count": 3,
   "metadata": {},
   "outputs": [],
   "source": [
    "# folder_location = \"/Source Images/Image Testing/850-940\"\n",
    "\n",
    "path = \"Source Images/finger_extracted.png\"\n",
    "\n",
    "img = cv2.imread(path, 0)"
   ]
  },
  {
   "cell_type": "code",
   "execution_count": 4,
   "metadata": {},
   "outputs": [
    {
     "name": "stdout",
     "output_type": "stream",
     "text": [
      "Base image shape: (114, 292)\n",
      "Optiml image shape: (120, 300)\n"
     ]
    }
   ],
   "source": [
    "# img = cv2.cvtColor(img, cv2.COLOR_RGB2GRAY)\n",
    "\n",
    "print(f'Base image shape: {img.shape}')\n",
    "print(f'Optiml image shape: {(cv2.getOptimalDFTSize(img.shape[0]), cv2.getOptimalDFTSize(img.shape[1]))}')\n",
    "\n",
    "cv2.imshow('Image', img)\n",
    "cv2.waitKey(0)\n",
    "cv2.destroyAllWindows()"
   ]
  },
  {
   "cell_type": "code",
   "execution_count": 5,
   "metadata": {},
   "outputs": [],
   "source": [
    "img_eq = cv2.equalizeHist(img)\n",
    "res = np.hstack((img, img_eq))\n",
    "\n",
    "cv2.imshow('Equalized', res)\n",
    "cv2.waitKey(0)\n",
    "cv2.destroyAllWindows()"
   ]
  },
  {
   "cell_type": "code",
   "execution_count": 6,
   "metadata": {},
   "outputs": [],
   "source": [
    "# # Equalisation visualisation. \n",
    "# color_range = 256\n",
    "\n",
    "# plt.plot(cdf_normalised(img, color_range), color = 'red')\n",
    "# plt.hist(img.flatten(), color_range, [0, color_range], color = 'teal')\n",
    "# plt.xlim([0, color_range])\n",
    "# plt.legend(('CDF','Hist'))\n",
    "# plt.title('Unprocessed image')\n",
    "# plt.show()\n",
    "\n",
    "# plt.plot(cdf_normalised(img_eq, color_range), color = 'red')\n",
    "# plt.hist(img_eq.flatten(), color_range, [0, color_range], color = 'teal')\n",
    "# plt.xlim([0, color_range])\n",
    "# plt.legend(('CDF','Hist'))\n",
    "# plt.title('Equalised image')\n",
    "# plt.show()"
   ]
  },
  {
   "cell_type": "code",
   "execution_count": 8,
   "metadata": {},
   "outputs": [
    {
     "ename": "NameError",
     "evalue": "name 'binarise' is not defined",
     "output_type": "error",
     "traceback": [
      "\u001b[1;31m---------------------------------------------------------------------------\u001b[0m",
      "\u001b[1;31mNameError\u001b[0m                                 Traceback (most recent call last)",
      "\u001b[1;32m<ipython-input-8-e226ab4e52b3>\u001b[0m in \u001b[0;36m<module>\u001b[1;34m\u001b[0m\n\u001b[0;32m      3\u001b[0m \u001b[1;31m# Direct application tends to obfuscate ridges. The details are much better handled by a\u001b[0m\u001b[1;33m\u001b[0m\u001b[1;33m\u001b[0m\u001b[1;33m\u001b[0m\u001b[0m\n\u001b[0;32m      4\u001b[0m \u001b[1;31m# rolling window approach as presented in 'binarise' function.\u001b[0m\u001b[1;33m\u001b[0m\u001b[1;33m\u001b[0m\u001b[1;33m\u001b[0m\u001b[0m\n\u001b[1;32m----> 5\u001b[1;33m \u001b[0mimg_bin\u001b[0m \u001b[1;33m=\u001b[0m \u001b[0mbinarise\u001b[0m\u001b[1;33m(\u001b[0m\u001b[0mimg\u001b[0m\u001b[1;33m)\u001b[0m\u001b[1;33m\u001b[0m\u001b[1;33m\u001b[0m\u001b[0m\n\u001b[0m\u001b[0;32m      6\u001b[0m \u001b[0mimg_blur\u001b[0m \u001b[1;33m=\u001b[0m \u001b[0mcv2\u001b[0m\u001b[1;33m.\u001b[0m\u001b[0mGaussianBlur\u001b[0m\u001b[1;33m(\u001b[0m\u001b[0mimg\u001b[0m\u001b[1;33m,\u001b[0m \u001b[1;33m(\u001b[0m\u001b[1;36m5\u001b[0m\u001b[1;33m,\u001b[0m\u001b[1;36m5\u001b[0m\u001b[1;33m)\u001b[0m\u001b[1;33m,\u001b[0m \u001b[1;36m0\u001b[0m\u001b[1;33m)\u001b[0m\u001b[1;33m\u001b[0m\u001b[1;33m\u001b[0m\u001b[0m\n\u001b[0;32m      7\u001b[0m \u001b[0mthreshold\u001b[0m\u001b[1;33m,\u001b[0m \u001b[0mimg_otsu\u001b[0m \u001b[1;33m=\u001b[0m \u001b[0mcv2\u001b[0m\u001b[1;33m.\u001b[0m\u001b[0mthreshold\u001b[0m\u001b[1;33m(\u001b[0m\u001b[0mimg\u001b[0m\u001b[1;33m,\u001b[0m \u001b[1;36m0\u001b[0m\u001b[1;33m,\u001b[0m \u001b[1;36m255\u001b[0m\u001b[1;33m,\u001b[0m \u001b[0mcv2\u001b[0m\u001b[1;33m.\u001b[0m\u001b[0mTHRESH_BINARY\u001b[0m \u001b[1;33m|\u001b[0m \u001b[0mcv2\u001b[0m\u001b[1;33m.\u001b[0m\u001b[0mTHRESH_OTSU\u001b[0m\u001b[1;33m)\u001b[0m\u001b[1;33m\u001b[0m\u001b[1;33m\u001b[0m\u001b[0m\n",
      "\u001b[1;31mNameError\u001b[0m: name 'binarise' is not defined"
     ]
    }
   ],
   "source": [
    "magnitude_spectrum = 20 * np.log(np.abs(fourier_transform(img)))\n",
    "img_hpf = high_pass_filter(img)\n",
    "\n",
    "display_image(img, 'Input Image')\n",
    "display_image(magnitude_spectrum, 'Magnitude Spectrum - DFT')\n",
    "display_image(img_hpf, 'Image after HPF')"
   ]
  }
 ],
 "metadata": {
  "kernelspec": {
   "display_name": "Python 3.9.5 64-bit",
   "language": "python",
   "name": "python3"
  },
  "language_info": {
   "codemirror_mode": {
    "name": "ipython",
    "version": 3
   },
   "file_extension": ".py",
   "mimetype": "text/x-python",
   "name": "python",
   "nbconvert_exporter": "python",
   "pygments_lexer": "ipython3",
   "version": "3.9.5"
  },
  "orig_nbformat": 4,
  "vscode": {
   "interpreter": {
    "hash": "b654f88a2aa7f1cda08762dc66487d2790699f868b38de4bfba6670f737f8c8d"
   }
  }
 },
 "nbformat": 4,
 "nbformat_minor": 2
}
